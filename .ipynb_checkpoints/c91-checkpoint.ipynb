{
 "cells": [
  {
   "cell_type": "code",
   "execution_count": 17,
   "id": "f8ca87c2-fc7a-4708-9eec-29677e8dfbb9",
   "metadata": {},
   "outputs": [
    {
     "data": {
      "application/vnd.jupyter.widget-view+json": {
       "model_id": "4bab688ad9814166b265a3c2aab37925",
       "version_major": 2,
       "version_minor": 0
      },
      "text/plain": [
       "interactive(children=(Text(value='0', description='Z_score'), Button(description='Run Interact', style=ButtonS…"
      ]
     },
     "metadata": {},
     "output_type": "display_data"
    },
    {
     "data": {
      "text/html": [
       "<style>[data-mime-type=\"application/vnd.jupyter.stdout\"] pre {color:blue;font-size:36px}</style>"
      ],
      "text/plain": [
       "<IPython.core.display.HTML object>"
      ]
     },
     "metadata": {},
     "output_type": "display_data"
    }
   ],
   "source": [
    "# nbi:hide_in \n",
    "\n",
    "from ipywidgets import interact_manual, Button\n",
    "from scipy import stats\n",
    "import matplotlib.pyplot as plt\n",
    "import numpy as np\n",
    "import warnings\n",
    "warnings.filterwarnings(\"ignore\")\n",
    "from IPython.display import HTML\n",
    "\n",
    "def Z_test(Z_score):\n",
    "  df, Z_score = int(100000), float(Z_score)\n",
    "  pval = stats.t.sf((Z_score), 100000)\n",
    "  print(f\"Z-Value= {Z_score}\\np-value= {round(pval,10)}\")\n",
    "  bound = max(4, Z_score+1.5)\n",
    "\n",
    "    \n",
    "inter = interact_manual(Z_test, Z_score=\"0\");\n",
    "inter.widget.children[1].style.button_color=\"lightblue\";\n",
    "inter.widget.children[1].description=\"Calculate P-value\";\n",
    "inter.widget.children[1].style.font_weight = \"bold\" ;\n",
    "inter.widget.children[1].style.text_color = \"red\" ;\n",
    "\n",
    "\n",
    "\n",
    "display(HTML('''<style>[data-mime-type=\"application/vnd.jupyter.stdout\"] pre {color:blue;font-size:24px}</style>'''))\n",
    "\n",
    "\n",
    "\n",
    "\n"
   ]
  },
  {
   "cell_type": "code",
   "execution_count": null,
   "id": "bc8f0820-5c2c-45a8-82a4-62fda4770fb1",
   "metadata": {},
   "outputs": [],
   "source": []
  }
 ],
 "metadata": {
  "kernelspec": {
   "display_name": "Python 3 (ipykernel)",
   "language": "python",
   "name": "python3"
  },
  "language_info": {
   "codemirror_mode": {
    "name": "ipython",
    "version": 3
   },
   "file_extension": ".py",
   "mimetype": "text/x-python",
   "name": "python",
   "nbconvert_exporter": "python",
   "pygments_lexer": "ipython3",
   "version": "3.7.12"
  }
 },
 "nbformat": 4,
 "nbformat_minor": 5
}
