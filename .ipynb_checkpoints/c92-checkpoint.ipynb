{
 "cells": [
  {
   "cell_type": "code",
   "execution_count": null,
   "id": "33938f81-ab3a-430e-a559-34dc808f7966",
   "metadata": {},
   "outputs": [],
   "source": [
    "\n",
    "# nbi:hide_in \n",
    "import pandas as pd\n",
    "import seaborn as sns\n",
    "import numpy as np\n",
    "import matplotlib.pyplot as plt\n",
    "from ipywidgets import interact, interactive, fixed, interact_manual, Layout\n",
    "import ipywidgets as widgets\n",
    "import random\n",
    "from random import choices\n",
    "from scipy import stats\n",
    "from IPython.display import HTML\n",
    "from scipy.stats import norm\n",
    "from termcolor import colored\n",
    "import math\n",
    "\n",
    "sns.set(font=\"serif\", style = \"white\")\n",
    "\n",
    "def sample_var(sample_size=5):\n",
    "  np.random.seed(4)\n",
    "  jitter=np.random.normal(scale=.2,size=1000) # change to 0 to remove jitter\n",
    "  sampled_vars = [np.round(np.var(np.random.normal(20, 3, sample_size+1)),3 ) for i in range(1000) ]\n",
    "  print(\"The variances of 1,000 samples:\", ', '.join(map(str,sampled_vars[:10])),\"...\")\n",
    "  plt.figure(0,figsize=(10,8))\n",
    "  plt.scatter(np.repeat(sample_size,1000)+jitter,sampled_vars,alpha=.1,label=\"Sample(s) variance\", color = \"deepskyblue\")\n",
    "  plt.scatter(sample_size,np.mean(sampled_vars),color=\"gray\",label=\"Mean variance of 1,000 samples = \"+str(np.round(np.mean(sampled_vars),decimals = 2)), linewidth = 10)\n",
    "  plt.axhline(9,color=\"navy\",label=\"Real variance = 9\", linewidth = 5)\n",
    "  plt.axhline(0,color=\"lightblue\",label=\"Sample Size = \" +str(sample_size), linewidth = 5)\n",
    "\n",
    "  plt.legend(fontsize = 14)\n",
    "  plt.ylabel(\"Variance Value\", size = 24)\n",
    "  plt.xlabel(\"Sample size\", size = 24)\n",
    "  plt.xlabel(\"Sample size\", size = 24)\n",
    "  plt.ylim(5,12)\n",
    "  plt.yticks(size = 16)\n",
    "  plt.xticks(size = 16)\n",
    "  plt.xlim(0,sample_size+10)\n",
    "\n",
    "_ = widgets.interact(sample_var, sample_size=(0,10000,1));\n",
    "\n"
   ]
  }
 ],
 "metadata": {
  "kernelspec": {
   "display_name": "Python 3 (ipykernel)",
   "language": "python",
   "name": "python3"
  },
  "language_info": {
   "codemirror_mode": {
    "name": "ipython",
    "version": 3
   },
   "file_extension": ".py",
   "mimetype": "text/x-python",
   "name": "python",
   "nbconvert_exporter": "python",
   "pygments_lexer": "ipython3",
   "version": "3.7.12"
  }
 },
 "nbformat": 4,
 "nbformat_minor": 5
}
